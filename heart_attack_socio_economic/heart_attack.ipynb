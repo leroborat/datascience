{
 "cells": [
  {
   "cell_type": "markdown",
   "metadata": {},
   "source": [
    "# Introduction\n",
    "\n",
    "Heart attacks are one of the leading causes of mortality worldwide, with lifestyle choices, socio-economic factors, and healthcare accessibility playing a significant role in their occurrence. In France, where healthcare is among the most accessible globally, disparities in health outcomes still exist due to variations in income, education, and regional access to medical facilities. Understanding these factors can help policymakers, healthcare providers, and public health officials address gaps and improve healthcare effectiveness.\n",
    "\n",
    "This project aims to analyze a dataset containing demographic, lifestyle, and healthcare-related information to uncover patterns and relationships between socio-economic variables and heart attack occurrences. By identifying these relationships, we can propose actionable insights to improve healthcare access and engagement, especially for at-risk populations.\n",
    "\n",
    "---\n",
    "\n",
    "# Problem Statement\n",
    "\n",
    "Despite the advanced healthcare system in France, socio-economic disparities may impact the effectiveness of healthcare delivery and health outcomes, particularly in preventing heart attacks. This project seeks to address the following key questions:\n",
    "\n",
    "1. **What socio-economic factors, such as income level, education, and health insurance status, influence the likelihood of heart attack occurrence?**\n",
    "2. **How does regular engagement with healthcare services (e.g., checkups, medication adherence) impact heart attack outcomes?**\n",
    "3. **Are there significant regional variations in heart attack rates that correlate with environmental factors such as air pollution and healthcare accessibility?**\n",
    "\n",
    "The results of this analysis will guide interventions to make healthcare more accessible, improve adherence to medical protocols, and reduce the risk of heart attacks in vulnerable populations.\n"
   ]
  },
  {
   "cell_type": "code",
   "execution_count": 27,
   "metadata": {},
   "outputs": [],
   "source": [
    "# Import libraries\n",
    "import pandas as pd\n",
    "import numpy as np\n",
    "import matplotlib.pyplot as plt\n",
    "import seaborn as sns\n"
   ]
  },
  {
   "cell_type": "code",
   "execution_count": 28,
   "metadata": {},
   "outputs": [
    {
     "data": {
      "text/html": [
       "<div>\n",
       "<style scoped>\n",
       "    .dataframe tbody tr th:only-of-type {\n",
       "        vertical-align: middle;\n",
       "    }\n",
       "\n",
       "    .dataframe tbody tr th {\n",
       "        vertical-align: top;\n",
       "    }\n",
       "\n",
       "    .dataframe thead th {\n",
       "        text-align: right;\n",
       "    }\n",
       "</style>\n",
       "<table border=\"1\" class=\"dataframe\">\n",
       "  <thead>\n",
       "    <tr style=\"text-align: right;\">\n",
       "      <th></th>\n",
       "      <th>Patient_ID</th>\n",
       "      <th>Age</th>\n",
       "      <th>Sex</th>\n",
       "      <th>Weight_kg</th>\n",
       "      <th>Height_cm</th>\n",
       "      <th>BMI</th>\n",
       "      <th>Blood_Pressure_Systolic</th>\n",
       "      <th>Blood_Pressure_Diastolic</th>\n",
       "      <th>Cholesterol_Level</th>\n",
       "      <th>Smoking_Status</th>\n",
       "      <th>...</th>\n",
       "      <th>Exercise_Induced_Pain</th>\n",
       "      <th>Heart_Attack</th>\n",
       "      <th>Age_Group</th>\n",
       "      <th>Region</th>\n",
       "      <th>Air_Pollution_Level</th>\n",
       "      <th>Income_Level</th>\n",
       "      <th>Education_Level</th>\n",
       "      <th>Health_Insurance</th>\n",
       "      <th>Regular_Checkups</th>\n",
       "      <th>Medication_Adherence</th>\n",
       "    </tr>\n",
       "  </thead>\n",
       "  <tbody>\n",
       "    <tr>\n",
       "      <th>0</th>\n",
       "      <td>1</td>\n",
       "      <td>56</td>\n",
       "      <td>Male</td>\n",
       "      <td>118.4</td>\n",
       "      <td>184</td>\n",
       "      <td>35.4</td>\n",
       "      <td>96</td>\n",
       "      <td>94</td>\n",
       "      <td>204.3</td>\n",
       "      <td>Ex-Smoker</td>\n",
       "      <td>...</td>\n",
       "      <td>No</td>\n",
       "      <td>No</td>\n",
       "      <td>Adult</td>\n",
       "      <td>Central</td>\n",
       "      <td>67</td>\n",
       "      <td>Medium</td>\n",
       "      <td>College</td>\n",
       "      <td>Yes</td>\n",
       "      <td>Occasionally</td>\n",
       "      <td>Yes</td>\n",
       "    </tr>\n",
       "    <tr>\n",
       "      <th>1</th>\n",
       "      <td>2</td>\n",
       "      <td>46</td>\n",
       "      <td>Male</td>\n",
       "      <td>50.7</td>\n",
       "      <td>164</td>\n",
       "      <td>32.6</td>\n",
       "      <td>114</td>\n",
       "      <td>65</td>\n",
       "      <td>279.4</td>\n",
       "      <td>Non-Smoker</td>\n",
       "      <td>...</td>\n",
       "      <td>No</td>\n",
       "      <td>Yes</td>\n",
       "      <td>Adult</td>\n",
       "      <td>North</td>\n",
       "      <td>16</td>\n",
       "      <td>Low</td>\n",
       "      <td>High School</td>\n",
       "      <td>Yes</td>\n",
       "      <td>Occasionally</td>\n",
       "      <td>Yes</td>\n",
       "    </tr>\n",
       "    <tr>\n",
       "      <th>2</th>\n",
       "      <td>3</td>\n",
       "      <td>32</td>\n",
       "      <td>Male</td>\n",
       "      <td>118.0</td>\n",
       "      <td>179</td>\n",
       "      <td>39.8</td>\n",
       "      <td>98</td>\n",
       "      <td>118</td>\n",
       "      <td>291.4</td>\n",
       "      <td>Current Smoker</td>\n",
       "      <td>...</td>\n",
       "      <td>No</td>\n",
       "      <td>No</td>\n",
       "      <td>Adult</td>\n",
       "      <td>South</td>\n",
       "      <td>32</td>\n",
       "      <td>Medium</td>\n",
       "      <td>College</td>\n",
       "      <td>Yes</td>\n",
       "      <td>Frequently</td>\n",
       "      <td>Yes</td>\n",
       "    </tr>\n",
       "    <tr>\n",
       "      <th>3</th>\n",
       "      <td>4</td>\n",
       "      <td>60</td>\n",
       "      <td>Male</td>\n",
       "      <td>96.8</td>\n",
       "      <td>161</td>\n",
       "      <td>23.7</td>\n",
       "      <td>108</td>\n",
       "      <td>101</td>\n",
       "      <td>273.3</td>\n",
       "      <td>Non-Smoker</td>\n",
       "      <td>...</td>\n",
       "      <td>No</td>\n",
       "      <td>No</td>\n",
       "      <td>Youth</td>\n",
       "      <td>East</td>\n",
       "      <td>86</td>\n",
       "      <td>Low</td>\n",
       "      <td>College</td>\n",
       "      <td>Yes</td>\n",
       "      <td>Occasionally</td>\n",
       "      <td>Yes</td>\n",
       "    </tr>\n",
       "    <tr>\n",
       "      <th>4</th>\n",
       "      <td>5</td>\n",
       "      <td>25</td>\n",
       "      <td>Male</td>\n",
       "      <td>53.9</td>\n",
       "      <td>169</td>\n",
       "      <td>24.4</td>\n",
       "      <td>141</td>\n",
       "      <td>73</td>\n",
       "      <td>290.8</td>\n",
       "      <td>Ex-Smoker</td>\n",
       "      <td>...</td>\n",
       "      <td>No</td>\n",
       "      <td>No</td>\n",
       "      <td>Youth</td>\n",
       "      <td>South</td>\n",
       "      <td>15</td>\n",
       "      <td>Low</td>\n",
       "      <td>High School</td>\n",
       "      <td>Yes</td>\n",
       "      <td>Occasionally</td>\n",
       "      <td>No</td>\n",
       "    </tr>\n",
       "  </tbody>\n",
       "</table>\n",
       "<p>5 rows × 27 columns</p>\n",
       "</div>"
      ],
      "text/plain": [
       "   Patient_ID  Age   Sex  Weight_kg  Height_cm   BMI  Blood_Pressure_Systolic  \\\n",
       "0           1   56  Male      118.4        184  35.4                       96   \n",
       "1           2   46  Male       50.7        164  32.6                      114   \n",
       "2           3   32  Male      118.0        179  39.8                       98   \n",
       "3           4   60  Male       96.8        161  23.7                      108   \n",
       "4           5   25  Male       53.9        169  24.4                      141   \n",
       "\n",
       "   Blood_Pressure_Diastolic  Cholesterol_Level  Smoking_Status  ...  \\\n",
       "0                        94              204.3       Ex-Smoker  ...   \n",
       "1                        65              279.4      Non-Smoker  ...   \n",
       "2                       118              291.4  Current Smoker  ...   \n",
       "3                       101              273.3      Non-Smoker  ...   \n",
       "4                        73              290.8       Ex-Smoker  ...   \n",
       "\n",
       "   Exercise_Induced_Pain  Heart_Attack Age_Group   Region Air_Pollution_Level  \\\n",
       "0                     No            No     Adult  Central                  67   \n",
       "1                     No           Yes     Adult    North                  16   \n",
       "2                     No            No     Adult    South                  32   \n",
       "3                     No            No     Youth     East                  86   \n",
       "4                     No            No     Youth    South                  15   \n",
       "\n",
       "   Income_Level  Education_Level Health_Insurance Regular_Checkups  \\\n",
       "0        Medium          College              Yes     Occasionally   \n",
       "1           Low      High School              Yes     Occasionally   \n",
       "2        Medium          College              Yes       Frequently   \n",
       "3           Low          College              Yes     Occasionally   \n",
       "4           Low      High School              Yes     Occasionally   \n",
       "\n",
       "  Medication_Adherence  \n",
       "0                  Yes  \n",
       "1                  Yes  \n",
       "2                  Yes  \n",
       "3                  Yes  \n",
       "4                   No  \n",
       "\n",
       "[5 rows x 27 columns]"
      ]
     },
     "execution_count": 28,
     "metadata": {},
     "output_type": "execute_result"
    }
   ],
   "source": [
    "# Load the dataset\n",
    "file_path = 'heart_attack_youth_adult_france.csv'  # Update with your file path\n",
    "data = pd.read_csv(file_path)\n",
    "\n",
    "# Display the first few rows\n",
    "data.head()\n"
   ]
  },
  {
   "cell_type": "code",
   "execution_count": 29,
   "metadata": {},
   "outputs": [
    {
     "name": "stdout",
     "output_type": "stream",
     "text": [
      "<class 'pandas.core.frame.DataFrame'>\n",
      "RangeIndex: 266786 entries, 0 to 266785\n",
      "Data columns (total 27 columns):\n",
      " #   Column                    Non-Null Count   Dtype  \n",
      "---  ------                    --------------   -----  \n",
      " 0   Patient_ID                266786 non-null  int64  \n",
      " 1   Age                       266786 non-null  int64  \n",
      " 2   Sex                       266786 non-null  object \n",
      " 3   Weight_kg                 266786 non-null  float64\n",
      " 4   Height_cm                 266786 non-null  int64  \n",
      " 5   BMI                       266786 non-null  float64\n",
      " 6   Blood_Pressure_Systolic   266786 non-null  int64  \n",
      " 7   Blood_Pressure_Diastolic  266786 non-null  int64  \n",
      " 8   Cholesterol_Level         266786 non-null  float64\n",
      " 9   Smoking_Status            266786 non-null  object \n",
      " 10  Alcohol_Consumption       266786 non-null  int64  \n",
      " 11  Physical_Activity_Hours   266786 non-null  float64\n",
      " 12  Diabetes                  266786 non-null  object \n",
      " 13  Family_History            266786 non-null  object \n",
      " 14  Diet_Type                 266786 non-null  object \n",
      " 15  Stress_Level              266786 non-null  int64  \n",
      " 16  Heart_Rate                266786 non-null  int64  \n",
      " 17  Exercise_Induced_Pain     266786 non-null  object \n",
      " 18  Heart_Attack              266786 non-null  object \n",
      " 19  Age_Group                 266786 non-null  object \n",
      " 20  Region                    266786 non-null  object \n",
      " 21  Air_Pollution_Level       266786 non-null  int64  \n",
      " 22  Income_Level              266786 non-null  object \n",
      " 23  Education_Level           266786 non-null  object \n",
      " 24  Health_Insurance          266786 non-null  object \n",
      " 25  Regular_Checkups          266786 non-null  object \n",
      " 26  Medication_Adherence      266786 non-null  object \n",
      "dtypes: float64(4), int64(9), object(14)\n",
      "memory usage: 55.0+ MB\n",
      "\n",
      "Missing Values:\n",
      " Patient_ID                  0\n",
      "Age                         0\n",
      "Sex                         0\n",
      "Weight_kg                   0\n",
      "Height_cm                   0\n",
      "BMI                         0\n",
      "Blood_Pressure_Systolic     0\n",
      "Blood_Pressure_Diastolic    0\n",
      "Cholesterol_Level           0\n",
      "Smoking_Status              0\n",
      "Alcohol_Consumption         0\n",
      "Physical_Activity_Hours     0\n",
      "Diabetes                    0\n",
      "Family_History              0\n",
      "Diet_Type                   0\n",
      "Stress_Level                0\n",
      "Heart_Rate                  0\n",
      "Exercise_Induced_Pain       0\n",
      "Heart_Attack                0\n",
      "Age_Group                   0\n",
      "Region                      0\n",
      "Air_Pollution_Level         0\n",
      "Income_Level                0\n",
      "Education_Level             0\n",
      "Health_Insurance            0\n",
      "Regular_Checkups            0\n",
      "Medication_Adherence        0\n",
      "dtype: int64\n",
      "\n",
      "The dataset contains 266786 rows and 27 columns.\n"
     ]
    }
   ],
   "source": [
    "# Display basic information about the dataset\n",
    "data.info()\n",
    "\n",
    "# Display basic statistics for numerical columns\n",
    "data.describe()\n",
    "\n",
    "# Check for missing values\n",
    "missing_values = data.isnull().sum()\n",
    "print(\"\\nMissing Values:\\n\", missing_values)\n",
    "\n",
    "# Display the shape of the dataset\n",
    "print(f\"\\nThe dataset contains {data.shape[0]} rows and {data.shape[1]} columns.\")\n"
   ]
  },
  {
   "cell_type": "code",
   "execution_count": 30,
   "metadata": {},
   "outputs": [
    {
     "name": "stdout",
     "output_type": "stream",
     "text": [
      "\n",
      "Columns in the dataset:\n",
      " ['Patient_ID', 'Age', 'Sex', 'Weight_kg', 'Height_cm', 'BMI', 'Blood_Pressure_Systolic', 'Blood_Pressure_Diastolic', 'Cholesterol_Level', 'Smoking_Status', 'Alcohol_Consumption', 'Physical_Activity_Hours', 'Diabetes', 'Family_History', 'Diet_Type', 'Stress_Level', 'Heart_Rate', 'Exercise_Induced_Pain', 'Heart_Attack', 'Age_Group', 'Region', 'Air_Pollution_Level', 'Income_Level', 'Education_Level', 'Health_Insurance', 'Regular_Checkups', 'Medication_Adherence']\n"
     ]
    }
   ],
   "source": [
    "# Save column names\n",
    "columns = data.columns.tolist()\n",
    "print(\"\\nColumns in the dataset:\\n\", columns)\n"
   ]
  },
  {
   "cell_type": "code",
   "execution_count": 31,
   "metadata": {},
   "outputs": [
    {
     "name": "stdout",
     "output_type": "stream",
     "text": [
      "\n",
      "Heart_Attack Value Counts:\n",
      " Heart_Attack\n",
      "No     213313\n",
      "Yes     53473\n",
      "Name: count, dtype: int64\n"
     ]
    },
    {
     "name": "stderr",
     "output_type": "stream",
     "text": [
      "C:\\Users\\rein\\AppData\\Local\\Temp\\ipykernel_17240\\395930210.py:5: FutureWarning: \n",
      "\n",
      "Passing `palette` without assigning `hue` is deprecated and will be removed in v0.14.0. Assign the `y` variable to `hue` and set `legend=False` for the same effect.\n",
      "\n",
      "  sns.countplot(data['Heart_Attack'], palette='coolwarm')\n"
     ]
    },
    {
     "data": {
      "image/png": "[encoded data removed]",
      "text/plain": [
       "<Figure size 640x480 with 1 Axes>"
      ]
     },
     "metadata": {},
     "output_type": "display_data"
    }
   ],
   "source": [
    "# Inspect the target variable\n",
    "print(\"\\nHeart_Attack Value Counts:\\n\", data['Heart_Attack'].value_counts())\n",
    "\n",
    "# Plot distribution of the target variable\n",
    "sns.countplot(data['Heart_Attack'], palette='coolwarm')\n",
    "plt.title('Distribution of Heart_Attack')\n",
    "plt.xlabel('Heart Attack (0 = No, 1 = Yes)')\n",
    "plt.ylabel('Count')\n",
    "plt.show()\n"
   ]
  },
  {
   "cell_type": "code",
   "execution_count": 32,
   "metadata": {},
   "outputs": [
    {
     "name": "stdout",
     "output_type": "stream",
     "text": [
      "Data Types of Relevant Numerical Columns:\n",
      "\n",
      "Income_Level            object\n",
      "Air_Pollution_Level      int64\n",
      "Regular_Checkups        object\n",
      "Medication_Adherence    object\n",
      "Heart_Attack            object\n",
      "dtype: object\n",
      "\n",
      "Example Data for Relevant Numerical Columns:\n",
      "\n",
      "  Income_Level  Air_Pollution_Level Regular_Checkups Medication_Adherence  \\\n",
      "0       Medium                   67     Occasionally                  Yes   \n",
      "1          Low                   16     Occasionally                  Yes   \n",
      "2       Medium                   32       Frequently                  Yes   \n",
      "3          Low                   86     Occasionally                  Yes   \n",
      "4          Low                   15     Occasionally                   No   \n",
      "\n",
      "  Heart_Attack  \n",
      "0           No  \n",
      "1          Yes  \n",
      "2           No  \n",
      "3           No  \n",
      "4           No  \n"
     ]
    }
   ],
   "source": [
    "# Check data types and sample data for relevant numerical columns\n",
    "relevant_numerical = ['Income_Level', 'Air_Pollution_Level', 'Regular_Checkups', 'Medication_Adherence', 'Heart_Attack']\n",
    "\n",
    "# Display data types\n",
    "print(\"Data Types of Relevant Numerical Columns:\\n\")\n",
    "print(data[relevant_numerical].dtypes)\n",
    "\n",
    "# Display sample data\n",
    "print(\"\\nExample Data for Relevant Numerical Columns:\\n\")\n",
    "print(data[relevant_numerical].head())\n"
   ]
  },
  {
   "cell_type": "code",
   "execution_count": 33,
   "metadata": {},
   "outputs": [
    {
     "name": "stdout",
     "output_type": "stream",
     "text": [
      "\n",
      "Original Values for Income_Level:\n",
      " 0    Medium\n",
      "1       Low\n",
      "2    Medium\n",
      "3       Low\n",
      "4       Low\n",
      "Name: Income_Level, dtype: object\n",
      "\n",
      "Original Values for Regular_Checkups:\n",
      " 0    Occasionally\n",
      "1    Occasionally\n",
      "2      Frequently\n",
      "3    Occasionally\n",
      "4    Occasionally\n",
      "Name: Regular_Checkups, dtype: object\n",
      "\n",
      "Original Values for Medication_Adherence:\n",
      " 0    Yes\n",
      "1    Yes\n",
      "2    Yes\n",
      "3    Yes\n",
      "4     No\n",
      "Name: Medication_Adherence, dtype: object\n",
      "\n",
      "Original Values for Heart_Attack:\n",
      " 0     No\n",
      "1    Yes\n",
      "2     No\n",
      "3     No\n",
      "4     No\n",
      "Name: Heart_Attack, dtype: object\n"
     ]
    }
   ],
   "source": [
    "# Display original values for the columns before mapping\n",
    "print(\"\\nOriginal Values for Income_Level:\\n\", data['Income_Level'].head())\n",
    "print(\"\\nOriginal Values for Regular_Checkups:\\n\", data['Regular_Checkups'].head())\n",
    "print(\"\\nOriginal Values for Medication_Adherence:\\n\", data['Medication_Adherence'].head())\n",
    "print(\"\\nOriginal Values for Heart_Attack:\\n\", data['Heart_Attack'].head())\n"
   ]
  },
  {
   "cell_type": "code",
   "execution_count": 34,
   "metadata": {},
   "outputs": [],
   "source": [
    "# Strip whitespace and ensure lowercase consistency\n",
    "data['Income_Level'] = data['Income_Level'].str.strip().str.capitalize()\n",
    "data['Regular_Checkups'] = data['Regular_Checkups'].str.strip().str.capitalize()\n",
    "data['Medication_Adherence'] = data['Medication_Adherence'].str.strip().str.capitalize()\n",
    "data['Heart_Attack'] = data['Heart_Attack'].str.strip().str.capitalize()\n"
   ]
  },
  {
   "cell_type": "code",
   "execution_count": 35,
   "metadata": {},
   "outputs": [
    {
     "name": "stdout",
     "output_type": "stream",
     "text": [
      "\n",
      "Unique Values in Income_Level (after cleaning):\n",
      " ['Medium' 'Low' 'High']\n",
      "\n",
      "Unique Values in Regular_Checkups (after cleaning):\n",
      " ['Occasionally' 'Frequently' 'Rarely']\n",
      "\n",
      "Unique Values in Medication_Adherence (after cleaning):\n",
      " ['Yes' 'No']\n",
      "\n",
      "Unique Values in Heart_Attack (after cleaning):\n",
      " ['No' 'Yes']\n"
     ]
    }
   ],
   "source": [
    "print(\"\\nUnique Values in Income_Level (after cleaning):\\n\", data['Income_Level'].unique())\n",
    "print(\"\\nUnique Values in Regular_Checkups (after cleaning):\\n\", data['Regular_Checkups'].unique())\n",
    "print(\"\\nUnique Values in Medication_Adherence (after cleaning):\\n\", data['Medication_Adherence'].unique())\n",
    "print(\"\\nUnique Values in Heart_Attack (after cleaning):\\n\", data['Heart_Attack'].unique())\n"
   ]
  },
  {
   "cell_type": "code",
   "execution_count": 36,
   "metadata": {},
   "outputs": [],
   "source": [
    "# Define mappings (ensure categories match cleaned data)\n",
    "income_mapping = {'Low': 0, 'Medium': 1, 'High': 2}\n",
    "checkup_mapping = {'Rarely': 0, 'Occasionally': 1, 'Frequently': 2}\n",
    "adherence_mapping = {'No': 0, 'Yes': 1}\n",
    "heart_attack_mapping = {'No': 0, 'Yes': 1}\n",
    "\n",
    "# Apply mappings\n",
    "data['Income_Level'] = data['Income_Level'].map(income_mapping)\n",
    "data['Regular_Checkups'] = data['Regular_Checkups'].map(checkup_mapping)\n",
    "data['Medication_Adherence'] = data['Medication_Adherence'].map(adherence_mapping)\n",
    "data['Heart_Attack'] = data['Heart_Attack'].map(heart_attack_mapping)\n"
   ]
  },
  {
   "cell_type": "code",
   "execution_count": 37,
   "metadata": {},
   "outputs": [
    {
     "name": "stdout",
     "output_type": "stream",
     "text": [
      "\n",
      "Data Types After Fixing Mapping:\n",
      " Income_Level            int64\n",
      "Air_Pollution_Level     int64\n",
      "Regular_Checkups        int64\n",
      "Medication_Adherence    int64\n",
      "Heart_Attack            int64\n",
      "dtype: object\n",
      "\n",
      "Example Data After Fixing Mapping:\n",
      "    Income_Level  Air_Pollution_Level  Regular_Checkups  Medication_Adherence  \\\n",
      "0             1                   67                 1                     1   \n",
      "1             0                   16                 1                     1   \n",
      "2             1                   32                 2                     1   \n",
      "3             0                   86                 1                     1   \n",
      "4             0                   15                 1                     0   \n",
      "\n",
      "   Heart_Attack  \n",
      "0             0  \n",
      "1             1  \n",
      "2             0  \n",
      "3             0  \n",
      "4             0  \n"
     ]
    }
   ],
   "source": [
    "print(\"\\nData Types After Fixing Mapping:\\n\", data[relevant_numerical].dtypes)\n",
    "print(\"\\nExample Data After Fixing Mapping:\\n\", data[relevant_numerical].head())\n"
   ]
  },
  {
   "cell_type": "code",
   "execution_count": 38,
   "metadata": {},
   "outputs": [
    {
     "name": "stdout",
     "output_type": "stream",
     "text": [
      "\n",
      "Correlation with Heart_Attack:\n",
      " Heart_Attack            1.000000\n",
      "Air_Pollution_Level     0.000983\n",
      "Income_Level            0.000577\n",
      "Regular_Checkups       -0.001538\n",
      "Medication_Adherence   -0.003270\n",
      "Name: Heart_Attack, dtype: float64\n"
     ]
    }
   ],
   "source": [
    "import seaborn as sns\n",
    "import matplotlib.pyplot as plt\n",
    "\n",
    "# Relevant numerical columns\n",
    "relevant_numerical = ['Income_Level', 'Air_Pollution_Level', 'Regular_Checkups', 'Medication_Adherence', 'Heart_Attack']\n",
    "\n",
    "# Compute correlation matrix\n",
    "correlation_matrix = data[relevant_numerical].corr()\n",
    "\n",
    "# Display correlations with Heart_Attack\n",
    "correlation_with_target = correlation_matrix['Heart_Attack'].sort_values(ascending=False)\n",
    "print(\"\\nCorrelation with Heart_Attack:\\n\", correlation_with_target)\n"
   ]
  },
  {
   "cell_type": "code",
   "execution_count": 39,
   "metadata": {},
   "outputs": [
    {
     "data": {
      "image/png": "[encoded data removed]",
      "text/plain": [
       "<Figure size 800x600 with 2 Axes>"
      ]
     },
     "metadata": {},
     "output_type": "display_data"
    }
   ],
   "source": [
    "# Plot heatmap\n",
    "plt.figure(figsize=(8, 6))\n",
    "sns.heatmap(correlation_matrix, annot=True, cmap='coolwarm', fmt=\".2f\", vmin=-1, vmax=1)\n",
    "plt.title('Correlation Matrix for Relevant Variables')\n",
    "plt.show()\n"
   ]
  },
  {
   "cell_type": "code",
   "execution_count": 40,
   "metadata": {},
   "outputs": [
    {
     "name": "stdout",
     "output_type": "stream",
     "text": [
      "\n",
      "Spearman Correlation Matrix:\n",
      "                       Income_Level  Air_Pollution_Level  Regular_Checkups  \\\n",
      "Income_Level              1.000000             0.000899         -0.001815   \n",
      "Air_Pollution_Level       0.000899             1.000000          0.001226   \n",
      "Regular_Checkups         -0.001815             0.001226          1.000000   \n",
      "Medication_Adherence     -0.002298            -0.002243          0.002541   \n",
      "Heart_Attack              0.000585             0.000983         -0.001572   \n",
      "\n",
      "                      Medication_Adherence  Heart_Attack  \n",
      "Income_Level                     -0.002298      0.000585  \n",
      "Air_Pollution_Level              -0.002243      0.000983  \n",
      "Regular_Checkups                  0.002541     -0.001572  \n",
      "Medication_Adherence              1.000000     -0.003270  \n",
      "Heart_Attack                     -0.003270      1.000000  \n",
      "\n",
      "Kendall Correlation Matrix:\n",
      "                       Income_Level  Air_Pollution_Level  Regular_Checkups  \\\n",
      "Income_Level              1.000000             0.000699         -0.001636   \n",
      "Air_Pollution_Level       0.000699             1.000000          0.000956   \n",
      "Regular_Checkups         -0.001636             0.000956          1.000000   \n",
      "Medication_Adherence     -0.002180            -0.001840          0.002415   \n",
      "Heart_Attack              0.000555             0.000806         -0.001494   \n",
      "\n",
      "                      Medication_Adherence  Heart_Attack  \n",
      "Income_Level                     -0.002180      0.000555  \n",
      "Air_Pollution_Level              -0.001840      0.000806  \n",
      "Regular_Checkups                  0.002415     -0.001494  \n",
      "Medication_Adherence              1.000000     -0.003270  \n",
      "Heart_Attack                     -0.003270      1.000000  \n"
     ]
    }
   ],
   "source": [
    "# Spearman correlation\n",
    "spearman_corr = data[relevant_numerical].corr(method='spearman')\n",
    "print(\"\\nSpearman Correlation Matrix:\\n\", spearman_corr)\n",
    "\n",
    "# Kendall correlation\n",
    "kendall_corr = data[relevant_numerical].corr(method='kendall')\n",
    "print(\"\\nKendall Correlation Matrix:\\n\", kendall_corr)\n"
   ]
  },
  {
   "cell_type": "code",
   "execution_count": 41,
   "metadata": {},
   "outputs": [
    {
     "name": "stdout",
     "output_type": "stream",
     "text": [
      "\n",
      "Feature Importance Scores:\n",
      "                 Feature  Importance\n",
      "1   Air_Pollution_Level    0.871104\n",
      "0          Income_Level    0.054094\n",
      "2      Regular_Checkups    0.053499\n",
      "3  Medication_Adherence    0.021303\n"
     ]
    }
   ],
   "source": [
    "from sklearn.ensemble import RandomForestClassifier\n",
    "import pandas as pd\n",
    "\n",
    "# Prepare features and target\n",
    "X = data[['Income_Level', 'Air_Pollution_Level', 'Regular_Checkups', 'Medication_Adherence']]\n",
    "y = data['Heart_Attack']\n",
    "\n",
    "# Train a Random Forest Classifier\n",
    "model = RandomForestClassifier(random_state=42)\n",
    "model.fit(X, y)\n",
    "\n",
    "# Extract feature importances\n",
    "feature_importances = pd.DataFrame({\n",
    "    'Feature': X.columns,\n",
    "    'Importance': model.feature_importances_\n",
    "}).sort_values(by='Importance', ascending=False)\n",
    "\n",
    "print(\"\\nFeature Importance Scores:\\n\", feature_importances)\n"
   ]
  },
  {
   "cell_type": "markdown",
   "metadata": {},
   "source": [
    "### Interpretation of Feature Importance Scores\n",
    "\n",
    "The Random Forest Classifier was used to predict the likelihood of a heart attack based on the features: **Income Level**, **Air Pollution Level**, **Regular Checkups**, and **Medication Adherence**. Below is the interpretation of the feature importance scores obtained:\n",
    "\n",
    "1. **Air Pollution Level (Importance: 0.871)**  \n",
    "   - This feature is the most significant predictor of heart attacks in the dataset, with an importance score of 87.1%.  \n",
    "   - It suggests that exposure to air pollution has a strong correlation with the likelihood of a heart attack.\n",
    "\n",
    "2. **Income Level (Importance: 0.054)**  \n",
    "   - This feature has a relatively small importance score of 5.4%.  \n",
    "   - It indicates a weaker relationship between income levels and heart attack occurrence.\n",
    "\n",
    "3. **Regular Checkups (Importance: 0.053)**  \n",
    "   - This feature's importance is similar to that of Income Level (5.3%).  \n",
    "   - While it plays a role, its impact on predicting heart attacks is modest compared to air pollution levels.\n",
    "\n",
    "4. **Medication Adherence (Importance: 0.021)**  \n",
    "   - This is the least important feature, with an importance score of 2.1%.  \n",
    "   - It suggests that adherence to medication has minimal influence on the heart attack predictions in this specific model.\n",
    "\n",
    "### Key Takeaways\n",
    "- The analysis highlights **Air Pollution Level** as the dominant factor in predicting heart attacks, significantly outweighing the other features.\n",
    "- **Income Level** and **Regular Checkups** contribute marginally to the predictions, while **Medication Adherence** has the least impact.\n",
    "- These insights could guide further investigations and public health policies, emphasizing the need to address air pollution as a critical factor in reducing heart attack risks.\n"
   ]
  },
  {
   "cell_type": "code",
   "execution_count": 42,
   "metadata": {},
   "outputs": [
    {
     "name": "stdout",
     "output_type": "stream",
     "text": [
      "Number of Youth records: 111816\n",
      "Number of Adult records: 154970\n"
     ]
    }
   ],
   "source": [
    "# Filter the dataset by Age_Group\n",
    "youth_data = data[data['Age_Group'] == 'Youth']\n",
    "adult_data = data[data['Age_Group'] == 'Adult']\n",
    "\n",
    "# Confirm the sizes of the subsets\n",
    "print(\"Number of Youth records:\", youth_data.shape[0])\n",
    "print(\"Number of Adult records:\", adult_data.shape[0])\n"
   ]
  },
  {
   "cell_type": "code",
   "execution_count": 43,
   "metadata": {},
   "outputs": [
    {
     "name": "stdout",
     "output_type": "stream",
     "text": [
      "\n",
      "Youth Correlation with Heart_Attack:\n",
      " Income_Level           -0.000433\n",
      "Air_Pollution_Level     0.003788\n",
      "Regular_Checkups       -0.001452\n",
      "Medication_Adherence   -0.004062\n",
      "Heart_Attack            1.000000\n",
      "Name: Heart_Attack, dtype: float64\n"
     ]
    }
   ],
   "source": [
    "# Compute correlation for Youth data\n",
    "youth_correlation = youth_data[['Income_Level', 'Air_Pollution_Level', 'Regular_Checkups', \n",
    "                                 'Medication_Adherence', 'Heart_Attack']].corr()\n",
    "\n",
    "# Display correlations with Heart_Attack\n",
    "print(\"\\nYouth Correlation with Heart_Attack:\\n\", youth_correlation['Heart_Attack'])\n"
   ]
  },
  {
   "cell_type": "code",
   "execution_count": 44,
   "metadata": {},
   "outputs": [
    {
     "name": "stdout",
     "output_type": "stream",
     "text": [
      "\n",
      "Adult Correlation with Heart_Attack:\n",
      " Income_Level            0.001303\n",
      "Air_Pollution_Level    -0.001040\n",
      "Regular_Checkups       -0.001602\n",
      "Medication_Adherence   -0.002700\n",
      "Heart_Attack            1.000000\n",
      "Name: Heart_Attack, dtype: float64\n"
     ]
    }
   ],
   "source": [
    "# Compute correlation for Adult data\n",
    "adult_correlation = adult_data[['Income_Level', 'Air_Pollution_Level', 'Regular_Checkups', \n",
    "                                 'Medication_Adherence', 'Heart_Attack']].corr()\n",
    "\n",
    "# Display correlations with Heart_Attack\n",
    "print(\"\\nAdult Correlation with Heart_Attack:\\n\", adult_correlation['Heart_Attack'])\n"
   ]
  },
  {
   "cell_type": "markdown",
   "metadata": {},
   "source": [
    "### Correlation Analysis with Heart Attack\n",
    "\n",
    "The correlation between features and heart attack occurrence was computed separately for youth and adult data to analyze how these relationships differ across age groups.\n",
    "\n",
    "#### Youth Correlation with Heart Attack\n",
    "| Feature                 | Correlation |\n",
    "|-------------------------|-------------|\n",
    "| **Income Level**        | -0.000433   |\n",
    "| **Air Pollution Level** |  0.003788   |\n",
    "| **Regular Checkups**    | -0.001452   |\n",
    "| **Medication Adherence**| -0.004062   |\n",
    "\n",
    "- **Key Observations:**\n",
    "  - None of the features show a strong correlation with heart attack occurrence in youth.\n",
    "  - The correlations are close to zero, indicating minimal linear relationships between these features and the target variable.\n",
    "\n",
    "#### Adult Correlation with Heart Attack\n",
    "| Feature                 | Correlation |\n",
    "|-------------------------|-------------|\n",
    "| **Income Level**        |  0.001303   |\n",
    "| **Air Pollution Level** | -0.001040   |\n",
    "| **Regular Checkups**    | -0.001602   |\n",
    "| **Medication Adherence**| -0.002700   |\n",
    "\n",
    "- **Key Observations:**\n",
    "  - Similar to youth data, the correlations for adults are also very close to zero.\n",
    "  - This suggests that none of the features have a strong linear relationship with heart attack occurrence in adults.\n",
    "\n",
    "### Insights and Implications\n",
    "1. **Minimal Linear Relationships:**\n",
    "   - Across both age groups, the correlation values are near zero for all features, suggesting these factors do not exhibit straightforward linear relationships with heart attack occurrence.\n",
    "\n",
    "2. **Complex Interactions Likely:**\n",
    "   - The low correlation does not imply irrelevance; it is possible that the relationships between these features and heart attacks are nonlinear or involve interactions that cannot be captured by simple correlation.\n",
    "\n",
    "3. **Further Investigation:**\n",
    "   - Advanced modeling techniques, such as the Random Forest Classifier used earlier, may uncover complex patterns and interactions that simple correlation analysis cannot reveal.\n",
    "   - Factors like **Air Pollution Level**, identified as significant in feature importance, may still have predictive power due to complex interactions.\n",
    "\n",
    "4. **Age Group Differences:**\n",
    "   - While there are no striking differences in the correlation patterns between youth and adults, further exploration could examine if other features or interactions are age-specific.\n"
   ]
  },
  {
   "cell_type": "code",
   "execution_count": 45,
   "metadata": {},
   "outputs": [
    {
     "name": "stdout",
     "output_type": "stream",
     "text": [
      "                Feature     Youth     Adult\n",
      "0          Income_Level -0.000433  0.001303\n",
      "1   Air_Pollution_Level  0.003788 -0.001040\n",
      "2      Regular_Checkups -0.001452 -0.001602\n",
      "3  Medication_Adherence -0.004062 -0.002700\n"
     ]
    }
   ],
   "source": [
    "import pandas as pd\n",
    "\n",
    "# Combine Youth and Adult correlations into a DataFrame\n",
    "correlation_comparison = pd.DataFrame({\n",
    "    'Feature': ['Income_Level', 'Air_Pollution_Level', 'Regular_Checkups', 'Medication_Adherence'],\n",
    "    'Youth': youth_correlation['Heart_Attack'].iloc[:-1].values,\n",
    "    'Adult': adult_correlation['Heart_Attack'].iloc[:-1].values\n",
    "})\n",
    "\n",
    "print(correlation_comparison)\n"
   ]
  },
  {
   "cell_type": "markdown",
   "metadata": {},
   "source": [
    "### Comparison of Correlations with Heart Attack Across Age Groups\n",
    "\n",
    "The correlations of each feature with heart attack occurrence for youth and adults are summarized below:\n",
    "\n",
    "| Feature                | Youth Correlation | Adult Correlation |\n",
    "|------------------------|-------------------|-------------------|\n",
    "| **Income Level**       | -0.000433         |  0.001303         |\n",
    "| **Air Pollution Level**|  0.003788         | -0.001040         |\n",
    "| **Regular Checkups**   | -0.001452         | -0.001602         |\n",
    "| **Medication Adherence**| -0.004062        | -0.002700         |\n",
    "\n",
    "### Observations\n",
    "1. **Income Level:**\n",
    "   - Minimal correlation in both groups, but the direction is slightly different:\n",
    "     - Youth: Negative (-0.000433)\n",
    "     - Adults: Positive (0.001303)\n",
    "   - The difference is negligible, indicating that Income Level does not strongly relate to heart attack occurrence in either group.\n",
    "\n",
    "2. **Air Pollution Level:**\n",
    "   - Youth: Weak positive correlation (0.003788)\n",
    "   - Adults: Weak negative correlation (-0.001040)\n",
    "   - While weak, this difference might suggest a slightly different relationship of air pollution with heart attacks between age groups.\n",
    "\n",
    "3. **Regular Checkups:**\n",
    "   - Both youth and adults show weak negative correlations, with values close to each other:\n",
    "     - Youth: -0.001452\n",
    "     - Adults: -0.001602\n",
    "   - This suggests regular checkups are similarly weakly related to heart attacks across both groups.\n",
    "\n",
    "4. **Medication Adherence:**\n",
    "   - The weakest correlations in both groups:\n",
    "     - Youth: -0.004062\n",
    "     - Adults: -0.002700\n",
    "   - This indicates that adherence to medication has a minimal relationship with heart attack occurrence in both groups.\n",
    "\n",
    "### Key Takeaways\n",
    "- Across all features, the correlations are close to zero, indicating no strong linear relationships with heart attack occurrence.\n",
    "- The comparison suggests that the relationships of these features with heart attacks are consistent between youth and adults.\n",
    "- These findings reinforce the need for more complex models to explore non-linear relationships and interactions between features and heart attacks.\n"
   ]
  },
  {
   "cell_type": "code",
   "execution_count": 46,
   "metadata": {},
   "outputs": [
    {
     "data": {
      "image/png": "[encoded data removed]",
      "text/plain": [
       "<Figure size 1000x600 with 1 Axes>"
      ]
     },
     "metadata": {},
     "output_type": "display_data"
    }
   ],
   "source": [
    "import matplotlib.pyplot as plt\n",
    "import numpy as np\n",
    "\n",
    "# Bar plot to compare correlations\n",
    "x = np.arange(len(correlation_comparison['Feature']))\n",
    "width = 0.35\n",
    "\n",
    "fig, ax = plt.subplots(figsize=(10, 6))\n",
    "bars1 = ax.bar(x - width/2, correlation_comparison['Youth'], width, label='Youth', color='skyblue')\n",
    "bars2 = ax.bar(x + width/2, correlation_comparison['Adult'], width, label='Adult', color='salmon')\n",
    "\n",
    "# Add labels and title\n",
    "ax.set_xlabel('Features')\n",
    "ax.set_ylabel('Correlation with Heart Attack')\n",
    "ax.set_title('Correlation Comparison: Youth vs. Adult')\n",
    "ax.set_xticks(x)\n",
    "ax.set_xticklabels(correlation_comparison['Feature'], rotation=45)\n",
    "ax.legend()\n",
    "\n",
    "# Display plot\n",
    "plt.tight_layout()\n",
    "plt.show()\n"
   ]
  },
  {
   "cell_type": "code",
   "execution_count": 47,
   "metadata": {},
   "outputs": [
    {
     "name": "stdout",
     "output_type": "stream",
     "text": [
      "\n",
      "Heart Attack Rate by Region:\n",
      " Region\n",
      "Central    0.203845\n",
      "East       0.200268\n",
      "North      0.198024\n",
      "South      0.201888\n",
      "West       0.198144\n",
      "Name: Heart_Attack, dtype: float64\n"
     ]
    }
   ],
   "source": [
    "# Calculate the mean heart attack occurrence by region\n",
    "region_heart_attack = data.groupby('Region')['Heart_Attack'].mean()\n",
    "\n",
    "# Display the results\n",
    "print(\"\\nHeart Attack Rate by Region:\\n\", region_heart_attack)\n"
   ]
  },
  {
   "cell_type": "code",
   "execution_count": 48,
   "metadata": {},
   "outputs": [
    {
     "data": {
      "image/png": "[encoded data removed]",
      "text/plain": [
       "<Figure size 1000x600 with 1 Axes>"
      ]
     },
     "metadata": {},
     "output_type": "display_data"
    }
   ],
   "source": [
    "import matplotlib.pyplot as plt\n",
    "\n",
    "# Plot the average heart attack rate by region\n",
    "region_heart_attack.plot(kind='bar', color='skyblue', edgecolor='black', figsize=(10, 6))\n",
    "plt.title('Average Heart Attack Rate by Region')\n",
    "plt.xlabel('Region')\n",
    "plt.ylabel('Heart Attack Rate')\n",
    "plt.xticks(rotation=45)\n",
    "plt.show()\n"
   ]
  },
  {
   "cell_type": "code",
   "execution_count": 49,
   "metadata": {},
   "outputs": [
    {
     "name": "stdout",
     "output_type": "stream",
     "text": [
      "\n",
      "ANOVA Result:\n",
      "F-statistic: 2.0704910147173883\n",
      "P-value: 0.08178195640386808\n"
     ]
    }
   ],
   "source": [
    "from scipy.stats import f_oneway\n",
    "\n",
    "# Extract heart attack rates for each region\n",
    "region_groups = [data[data['Region'] == region]['Heart_Attack'] for region in data['Region'].unique()]\n",
    "\n",
    "# Perform one-way ANOVA\n",
    "anova_result = f_oneway(*region_groups)\n",
    "print(\"\\nANOVA Result:\")\n",
    "print(\"F-statistic:\", anova_result.statistic)\n",
    "print(\"P-value:\", anova_result.pvalue)\n"
   ]
  },
  {
   "cell_type": "code",
   "execution_count": 50,
   "metadata": {},
   "outputs": [
    {
     "name": "stdout",
     "output_type": "stream",
     "text": [
      "\n",
      "Feature Importance with Region:\n",
      "                 Feature  Importance\n",
      "1   Air_Pollution_Level    0.827374\n",
      "4        Region_Encoded    0.077190\n",
      "2      Regular_Checkups    0.040310\n",
      "0          Income_Level    0.040087\n",
      "3  Medication_Adherence    0.015040\n"
     ]
    }
   ],
   "source": [
    "from sklearn.ensemble import RandomForestClassifier\n",
    "from sklearn.preprocessing import LabelEncoder\n",
    "import pandas as pd\n",
    "\n",
    "# Encode Region\n",
    "data['Region_Encoded'] = LabelEncoder().fit_transform(data['Region'])\n",
    "\n",
    "# Prepare features and target\n",
    "X = data[['Income_Level', 'Air_Pollution_Level', 'Regular_Checkups', 'Medication_Adherence', 'Region_Encoded']]\n",
    "y = data['Heart_Attack']\n",
    "\n",
    "# Train a Random Forest model\n",
    "model = RandomForestClassifier(random_state=42)\n",
    "model.fit(X, y)\n",
    "\n",
    "# Feature importance\n",
    "importances = pd.DataFrame({\n",
    "    'Feature': X.columns,\n",
    "    'Importance': model.feature_importances_\n",
    "}).sort_values(by='Importance', ascending=False)\n",
    "\n",
    "print(\"\\nFeature Importance with Region:\\n\", importances)\n"
   ]
  },
  {
   "cell_type": "markdown",
   "metadata": {},
   "source": [
    "### Interpretation of Feature Importance with Region Added\n",
    "\n",
    "By including the encoded **Region** as a feature in the model, the updated feature importances reveal how this additional factor influences the prediction of heart attack occurrence.\n",
    "\n",
    "#### Updated Feature Importances\n",
    "| Feature                | Importance |\n",
    "|------------------------|------------|\n",
    "| **Air Pollution Level**| 0.827374   |\n",
    "| **Region (Encoded)**   | 0.077190   |\n",
    "| **Regular Checkups**   | 0.040310   |\n",
    "| **Income Level**       | 0.040087   |\n",
    "| **Medication Adherence**| 0.015040  |\n",
    "\n",
    "### Key Observations\n",
    "1. **Air Pollution Level:**\n",
    "   - Continues to be the most significant predictor, with an importance score of 82.7% (slightly reduced from 87.1% earlier).\n",
    "   - This suggests that while Region adds value, the dominant role of Air Pollution Level in predicting heart attacks remains consistent.\n",
    "\n",
    "2. **Region (Encoded):**\n",
    "   - Now the **second most important feature**, with an importance score of 7.7%.\n",
    "   - This indicates that geographical factors provide valuable insights for predicting heart attack risks.\n",
    "\n",
    "3. **Regular Checkups and Income Level:**\n",
    "   - Both features have similar importance scores (approximately 4.0%), indicating modest and roughly equal contributions to the model's predictions.\n",
    "\n",
    "4. **Medication Adherence:**\n",
    "   - Remains the least important feature, with a minimal importance score of 1.5%, suggesting limited predictive value in this dataset.\n",
    "\n",
    "### Insights\n",
    "- **Region's Contribution:** The inclusion of **Region** enhances the model's predictive performance, likely reflecting regional differences such as healthcare access, environmental factors, or lifestyle patterns.\n",
    "- **Air Pollution Level:** Despite the addition of Region, it remains the most critical feature, reinforcing its strong relationship with heart attack occurrence across regions.\n",
    "- **Other Features:** The relatively low importance of features like **Medication Adherence** and **Income Level** suggests they are less directly correlated with heart attack occurrence in this context.\n",
    "\n"
   ]
  },
  {
   "cell_type": "code",
   "execution_count": 51,
   "metadata": {},
   "outputs": [
    {
     "name": "stdout",
     "output_type": "stream",
     "text": [
      "\n",
      "Model with All Features:\n",
      "Accuracy: 0.794876119794595\n",
      "F1 Score: 0.013519603424966201\n"
     ]
    }
   ],
   "source": [
    "from sklearn.model_selection import train_test_split\n",
    "from sklearn.metrics import accuracy_score, f1_score\n",
    "\n",
    "# Features: All variables\n",
    "X_all = data[['Air_Pollution_Level', 'Region_Encoded', 'Regular_Checkups', 'Income_Level', 'Medication_Adherence']]\n",
    "y = data['Heart_Attack']\n",
    "\n",
    "# Train-test split\n",
    "X_train_all, X_test_all, y_train_all, y_test_all = train_test_split(X_all, y, test_size=0.2, random_state=42)\n",
    "\n",
    "# Train the model\n",
    "model_all = RandomForestClassifier(random_state=42)\n",
    "model_all.fit(X_train_all, y_train_all)\n",
    "\n",
    "# Evaluate the model\n",
    "y_pred_all = model_all.predict(X_test_all)\n",
    "print(\"\\nModel with All Features:\")\n",
    "print(\"Accuracy:\", accuracy_score(y_test_all, y_pred_all))\n",
    "print(\"F1 Score:\", f1_score(y_test_all, y_pred_all))\n"
   ]
  },
  {
   "cell_type": "code",
   "execution_count": 52,
   "metadata": {},
   "outputs": [
    {
     "name": "stdout",
     "output_type": "stream",
     "text": [
      "\n",
      "Model with Only Air Pollution:\n",
      "Accuracy: 0.7996364181566026\n",
      "F1 Score: 0.0\n"
     ]
    }
   ],
   "source": [
    "# Features: Only Air_Pollution_Level\n",
    "X_ap = data[['Air_Pollution_Level']]\n",
    "\n",
    "# Train-test split\n",
    "X_train_ap, X_test_ap, y_train_ap, y_test_ap = train_test_split(X_ap, y, test_size=0.2, random_state=42)\n",
    "\n",
    "# Train the model\n",
    "model_ap = RandomForestClassifier(random_state=42)\n",
    "model_ap.fit(X_train_ap, y_train_ap)\n",
    "\n",
    "# Evaluate the model\n",
    "y_pred_ap = model_ap.predict(X_test_ap)\n",
    "print(\"\\nModel with Only Air Pollution:\")\n",
    "print(\"Accuracy:\", accuracy_score(y_test_ap, y_pred_ap))\n",
    "print(\"F1 Score:\", f1_score(y_test_ap, y_pred_ap))\n"
   ]
  },
  {
   "cell_type": "markdown",
   "metadata": {},
   "source": [
    "### Conclusion\n",
    "\n",
    "This study focused exclusively on **socio-economic and environmental factors** to identify their influence on heart attack risks using a Random Forest Classifier. The analysis considered features such as **Air Pollution Level**, **Income Level**, **Regular Checkups**, **Medication Adherence**, and **Region**. The findings provide important insights:\n",
    "\n",
    "1. **Air Pollution Level** emerged as the most critical factor in predicting heart attack occurrence, consistently showing high importance across all models. This underscores the significant impact of environmental conditions within the socio-economic context on cardiovascular health.\n",
    "\n",
    "2. **Region** was identified as the second most important feature when included in the model. This highlights the influence of geographical and regional disparities, potentially reflecting differences in environmental exposure, healthcare access, or socio-economic conditions.\n",
    "\n",
    "3. **Income Level** and **Regular Checkups** showed modest importance, suggesting they play a secondary role in heart attack prediction. These features capture socio-economic and healthcare utilization patterns within the studied population.\n",
    "\n",
    "4. **Medication Adherence** consistently ranked as the least important feature, indicating minimal direct impact on heart attack prediction based solely on socio-economic factors. However, its importance may increase when combined with clinical or physiological data.\n",
    "\n",
    "### Key Takeaways\n",
    "- **Focused Scope:** This analysis emphasizes **socio-economic and environmental factors**, excluding physiological, genetic, or lifestyle data that may also significantly influence heart attack risks.\n",
    "- **Public Health Implications:** The strong influence of air pollution calls for interventions targeting environmental inequalities, especially in socio-economically disadvantaged regions.\n",
    "- **Regional Disparities:** The importance of regional factors suggests socio-economic inequalities and differences in healthcare systems as contributors to heart attack risks.\n",
    "\n",
    "### Recommendations\n",
    "1. **Policy Actions:** Focus on reducing air pollution and addressing regional healthcare disparities as part of socio-economic public health strategies.\n",
    "2. **Future Research:** Expand the scope to include lifestyle, genetic, and clinical data for a more holistic understanding of heart attack risks.\n",
    "3. **Socio-Economic Interventions:** Promote regular checkups and improve access to healthcare in underprivileged regions to mitigate health disparities.\n",
    "\n",
    "### Final Note\n",
    "This study highlights the role of **socio-economic and environmental factors** in predicting heart attack risks, providing a valuable but partial perspective. A more comprehensive approach that incorporates additional data types is necessary to fully understand the multifaceted causes of heart attacks.\n"
   ]
  }
 ],
 "metadata": {
  "kernelspec": {
   "display_name": "tconda2",
   "language": "python",
   "name": "python3"
  },
  "language_info": {
   "codemirror_mode": {
    "name": "ipython",
    "version": 3
   },
   "file_extension": ".py",
   "mimetype": "text/x-python",
   "name": "python",
   "nbconvert_exporter": "python",
   "pygments_lexer": "ipython3",
   "version": "3.11.11"
  }
 },
 "nbformat": 4,
 "nbformat_minor": 2
}
