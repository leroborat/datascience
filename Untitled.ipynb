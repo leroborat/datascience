{
 "cells": [
  {
   "cell_type": "markdown",
   "id": "5256f7c6",
   "metadata": {},
   "source": [
    "\n",
    "# Test Notebook\n",
    "\n",
    "## Purpose\n",
    "This notebook is created by **Rein Duque** to test and verify various functionalities.\n",
    "\n",
    "## Sections\n",
    "1. **Introduction**\n",
    "   - Overview of the notebook's purpose.\n",
    "2. **Testing Functionalities**\n",
    "   - Description of the functionalities being tested.\n",
    "3. **Results**\n",
    "   - Summary of observations and outcomes.\n",
    "\n",
    "## Notes\n",
    "- Ensure all features are thoroughly tested.\n",
    "- Record any bugs or issues for future reference.\n",
    "\n",
    "## Conclusion\n",
    "This notebook serves as a foundation for testing and improving processes effectively.\n"
   ]
  },
  {
   "cell_type": "code",
   "execution_count": 5,
   "id": "8daf8f25-3897-4d20-a9fb-724e5a27237d",
   "metadata": {},
   "outputs": [
    {
     "name": "stdout",
     "output_type": "stream",
     "text": [
      "Hello, W!\n"
     ]
    }
   ],
   "source": [
    "#Print hello world\n",
    "print(\"Hello, W!\")\n",
    "\n"
   ]
  },
  {
   "cell_type": "markdown",
   "id": "88e0aee4",
   "metadata": {},
   "source": []
  }
 ],
 "metadata": {
  "kernelspec": {
   "display_name": "tconda2",
   "language": "python",
   "name": "python3"
  },
  "language_info": {
   "codemirror_mode": {
    "name": "ipython",
    "version": 3
   },
   "file_extension": ".py",
   "mimetype": "text/x-python",
   "name": "python",
   "nbconvert_exporter": "python",
   "pygments_lexer": "ipython3",
   "version": "3.11.11"
  }
 },
 "nbformat": 4,
 "nbformat_minor": 5
}
